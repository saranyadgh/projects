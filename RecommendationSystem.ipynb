{
  "nbformat": 4,
  "nbformat_minor": 0,
  "metadata": {
    "colab": {
      "provenance": []
    },
    "kernelspec": {
      "name": "python3",
      "display_name": "Python 3"
    },
    "language_info": {
      "name": "python"
    }
  },
  "cells": [
    {
      "cell_type": "markdown",
      "source": [
        "**Importing Neccessary Libraries**"
      ],
      "metadata": {
        "id": "2XMXmerrEmO_"
      }
    },
    {
      "cell_type": "code",
      "source": [
        "!pip install scikit-surprise"
      ],
      "metadata": {
        "colab": {
          "base_uri": "https://localhost:8080/"
        },
        "id": "SfZCxMDtFAxV",
        "outputId": "64e37673-48d2-44d9-f510-b4ebe3dc18e9"
      },
      "execution_count": 2,
      "outputs": [
        {
          "output_type": "stream",
          "name": "stdout",
          "text": [
            "Collecting scikit-surprise\n",
            "  Downloading scikit-surprise-1.1.3.tar.gz (771 kB)\n",
            "\u001b[2K     \u001b[90m━━━━━━━━━━━━━━━━━━━━━━━━━━━━━━━━━━━━━━━━\u001b[0m \u001b[32m772.0/772.0 kB\u001b[0m \u001b[31m8.3 MB/s\u001b[0m eta \u001b[36m0:00:00\u001b[0m\n",
            "\u001b[?25h  Preparing metadata (setup.py) ... \u001b[?25l\u001b[?25hdone\n",
            "Requirement already satisfied: joblib>=1.0.0 in /usr/local/lib/python3.10/dist-packages (from scikit-surprise) (1.4.0)\n",
            "Requirement already satisfied: numpy>=1.17.3 in /usr/local/lib/python3.10/dist-packages (from scikit-surprise) (1.25.2)\n",
            "Requirement already satisfied: scipy>=1.3.2 in /usr/local/lib/python3.10/dist-packages (from scikit-surprise) (1.11.4)\n",
            "Building wheels for collected packages: scikit-surprise\n",
            "  Building wheel for scikit-surprise (setup.py) ... \u001b[?25l\u001b[?25hdone\n",
            "  Created wheel for scikit-surprise: filename=scikit_surprise-1.1.3-cp310-cp310-linux_x86_64.whl size=3162991 sha256=6bdee2bc9b056a60ade853562b088dec0d0be4d1eea146ef32dee315413ee42f\n",
            "  Stored in directory: /root/.cache/pip/wheels/a5/ca/a8/4e28def53797fdc4363ca4af740db15a9c2f1595ebc51fb445\n",
            "Successfully built scikit-surprise\n",
            "Installing collected packages: scikit-surprise\n",
            "Successfully installed scikit-surprise-1.1.3\n"
          ]
        }
      ]
    },
    {
      "cell_type": "code",
      "execution_count": 20,
      "metadata": {
        "id": "c5QDjiSfEfi4"
      },
      "outputs": [],
      "source": [
        "from surprise import Dataset, Reader, KNNBasic\n",
        "from surprise.model_selection import train_test_split\n",
        "import pandas as pd\n",
        "from surprise import Dataset, Reader,accuracy"
      ]
    },
    {
      "cell_type": "markdown",
      "source": [
        "**Sample DataSet**"
      ],
      "metadata": {
        "id": "MdVViycdFa4S"
      }
    },
    {
      "cell_type": "code",
      "source": [
        "data = [\n",
        "    ('User1', 'Item1', 4),\n",
        "    ('User1', 'Item2', 3),\n",
        "    ('User2', 'Item1', 5),\n",
        "    ('User2', 'Item2', 2),\n",
        "    ('User3', 'Item1', 3),\n",
        "    ('User3', 'Item2', 4),\n",
        "    ('User4', 'Item1', 2),\n",
        "    ('User4', 'Item2', 5),\n",
        "    ('User5', 'Item1', 4),\n",
        "    ('User5', 'Item2', 1)\n",
        "]"
      ],
      "metadata": {
        "id": "PWYIkYz9FTWw"
      },
      "execution_count": 4,
      "outputs": []
    },
    {
      "cell_type": "markdown",
      "source": [
        "**Convert data to pandas DataFrame**"
      ],
      "metadata": {
        "id": "j-qAUiuwGUdY"
      }
    },
    {
      "cell_type": "code",
      "source": [
        "df = pd.DataFrame(data, columns=['user', 'item', 'rating'])"
      ],
      "metadata": {
        "id": "WQQxJROKGWJ6"
      },
      "execution_count": 9,
      "outputs": []
    },
    {
      "cell_type": "markdown",
      "source": [
        "**Define the format of the data**"
      ],
      "metadata": {
        "id": "6jO2Mj4rEsEn"
      }
    },
    {
      "cell_type": "code",
      "source": [
        "reader = Reader(rating_scale=(1, 5))"
      ],
      "metadata": {
        "id": "hmdZbmjbFwnw"
      },
      "execution_count": 5,
      "outputs": []
    },
    {
      "cell_type": "markdown",
      "source": [
        "**Load the dataset**"
      ],
      "metadata": {
        "id": "SzRobspmF0BJ"
      }
    },
    {
      "cell_type": "code",
      "source": [
        "dataset = Dataset.load_from_df(df[['user', 'item', 'rating']], reader)"
      ],
      "metadata": {
        "id": "ciDrJU4mGmQD"
      },
      "execution_count": 10,
      "outputs": []
    },
    {
      "cell_type": "markdown",
      "source": [
        "**Split the dataset into training and testing sets**"
      ],
      "metadata": {
        "id": "Z3Y8WXDEGqv4"
      }
    },
    {
      "cell_type": "code",
      "source": [
        "trainset, testset = train_test_split(dataset, test_size=0.2)"
      ],
      "metadata": {
        "id": "4IS9zUamGwvm"
      },
      "execution_count": 11,
      "outputs": []
    },
    {
      "cell_type": "markdown",
      "source": [
        "**Use KNNBasic collaborative filtering algorithm**"
      ],
      "metadata": {
        "id": "UlcVek0HGzNL"
      }
    },
    {
      "cell_type": "code",
      "source": [
        "algo = KNNBasic()"
      ],
      "metadata": {
        "id": "hXcYZXr1G2UW"
      },
      "execution_count": 12,
      "outputs": []
    },
    {
      "cell_type": "markdown",
      "source": [
        "**Train the model on the training set**"
      ],
      "metadata": {
        "id": "1Ja49vLaG4jC"
      }
    },
    {
      "cell_type": "code",
      "source": [
        "algo.fit(trainset)"
      ],
      "metadata": {
        "colab": {
          "base_uri": "https://localhost:8080/"
        },
        "id": "b0FMIOGnG9fS",
        "outputId": "8f7c72d6-2f6b-492d-cc95-c4650b0414df"
      },
      "execution_count": 13,
      "outputs": [
        {
          "output_type": "stream",
          "name": "stdout",
          "text": [
            "Computing the msd similarity matrix...\n",
            "Done computing similarity matrix.\n"
          ]
        },
        {
          "output_type": "execute_result",
          "data": {
            "text/plain": [
              "<surprise.prediction_algorithms.knns.KNNBasic at 0x7af0cf5ebc70>"
            ]
          },
          "metadata": {},
          "execution_count": 13
        }
      ]
    },
    {
      "cell_type": "markdown",
      "source": [
        "**Make predictions on the testing set**"
      ],
      "metadata": {
        "id": "aAn8DWbmHD6U"
      }
    },
    {
      "cell_type": "code",
      "source": [
        "predictions = algo.test(testset)"
      ],
      "metadata": {
        "id": "huo1AQHaHGD5"
      },
      "execution_count": 14,
      "outputs": []
    },
    {
      "cell_type": "markdown",
      "source": [
        "**Evaluate Model**"
      ],
      "metadata": {
        "id": "eAXQx1XsH9TT"
      }
    },
    {
      "cell_type": "code",
      "source": [
        "accuracy.rmse(predictions)"
      ],
      "metadata": {
        "colab": {
          "base_uri": "https://localhost:8080/"
        },
        "id": "MrKYRs_OHsnv",
        "outputId": "54099c11-d639-41fd-f757-e6c254be4ee0"
      },
      "execution_count": 23,
      "outputs": [
        {
          "output_type": "stream",
          "name": "stdout",
          "text": [
            "RMSE: 1.3927\n"
          ]
        },
        {
          "output_type": "execute_result",
          "data": {
            "text/plain": [
              "1.3927090868297853"
            ]
          },
          "metadata": {},
          "execution_count": 23
        }
      ]
    },
    {
      "cell_type": "markdown",
      "source": [
        "**Function to get recommendations for a user**"
      ],
      "metadata": {
        "id": "6J3K3bJhHImO"
      }
    },
    {
      "cell_type": "code",
      "source": [
        "def get_recommendations(user_id, n=5):\n",
        "    all_items = trainset.all_items()\n",
        "    items_not_rated_by_user = [item for item in all_items if item not in trainset.ur[trainset.to_inner_uid(user_id)]]\n",
        "    item_ratings = [(item, algo.predict(user_id, item).est) for item in items_not_rated_by_user]\n",
        "    item_ratings.sort(key=lambda x: x[1], reverse=True)\n",
        "    return item_ratings[:n]"
      ],
      "metadata": {
        "id": "msgD2HT-HW1e"
      },
      "execution_count": 16,
      "outputs": []
    },
    {
      "cell_type": "markdown",
      "source": [
        "**Example: Get recommendations for 'User1'**"
      ],
      "metadata": {
        "id": "jreqNgQDHmhc"
      }
    },
    {
      "cell_type": "code",
      "source": [
        "user_id = 'User1'\n",
        "recommendations = get_recommendations(user_id)\n",
        "print(f\"Top 5 recommendations for {user_id}:\")\n",
        "for item, rating in recommendations:\n",
        "    print(f\"Item: {item}, Predicted Rating: {rating}\")"
      ],
      "metadata": {
        "colab": {
          "base_uri": "https://localhost:8080/"
        },
        "id": "mVZIcGRiHn5J",
        "outputId": "d29cb8e5-0864-47a6-eb58-306258354144"
      },
      "execution_count": 24,
      "outputs": [
        {
          "output_type": "stream",
          "name": "stdout",
          "text": [
            "Top 5 recommendations for User1:\n",
            "Item: 0, Predicted Rating: 3.5\n",
            "Item: 1, Predicted Rating: 3.5\n"
          ]
        }
      ]
    }
  ]
}